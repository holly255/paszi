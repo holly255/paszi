{
 "cells": [
  {
   "cell_type": "code",
   "execution_count": null,
   "metadata": {},
   "outputs": [
    {
     "name": "stdout",
     "output_type": "stream",
     "text": [
      "Starting server, use <Ctrl-C> to stop\n"
     ]
    }
   ],
   "source": [
    "from http.server import BaseHTTPRequestHandler\n",
    "from urllib import parse\n",
    "\n",
    "\n",
    "class GetHandler(BaseHTTPRequestHandler):\n",
    "\n",
    "    def do_GET(self):\n",
    "        parsed_path = parse.urlparse(self.path)\n",
    "        message_parts = [\n",
    "            'CLIENT VALUES:',\n",
    "            'client_address={} ({})'.format(\n",
    "                self.client_address,\n",
    "                self.address_string()),\n",
    "            'command={}'.format(self.command),\n",
    "            'path={}'.format(self.path),\n",
    "            'real path={}'.format(parsed_path.path),\n",
    "            'query={}'.format(parsed_path.query),\n",
    "            'request_version={}'.format(self.request_version),\n",
    "            '',\n",
    "            'SERVER VALUES:',\n",
    "            'server_version={}'.format(self.server_version),\n",
    "            'sys_version={}'.format(self.sys_version),\n",
    "            'protocol_version={}'.format(self.protocol_version),\n",
    "            '',\n",
    "            'HEADERS RECEIVED:',\n",
    "        ]\n",
    "        for name, value in sorted(self.headers.items()):\n",
    "            message_parts.append(\n",
    "                '{}={}'.format(name, value.rstrip())\n",
    "            )\n",
    "        message_parts.append('')\n",
    "        message = '\\r\\n'.join(message_parts)\n",
    "        self.send_response(200)\n",
    "        self.send_header('Content-Type',\n",
    "                         'text/plain; charset=utf-8')\n",
    "        self.end_headers()\n",
    "        self.wfile.write(message.encode('utf-8'))\n",
    "\n",
    "\n",
    "if __name__ == '__main__':\n",
    "    from http.server import HTTPServer\n",
    "    server = HTTPServer(('localhost', 8080), GetHandler)\n",
    "    print('Starting server, use <Ctrl-C> to stop')\n",
    "    server.serve_forever()"
   ]
  },
  {
   "cell_type": "code",
   "execution_count": null,
   "metadata": {},
   "outputs": [
    {
     "name": "stdout",
     "output_type": "stream",
     "text": [
      "Starting server, use <Ctrl-C> to stop\n"
     ]
    },
    {
     "name": "stderr",
     "output_type": "stream",
     "text": [
      "127.0.0.1 - - [23/Dec/2020 22:09:12] \"POST / HTTP/1.1\" 200 -\n",
      "127.0.0.1 - - [23/Dec/2020 22:11:17] \"POST / HTTP/1.1\" 200 -\n",
      "127.0.0.1 - - [23/Dec/2020 22:11:55] \"POST / HTTP/1.1\" 200 -\n",
      "127.0.0.1 - - [23/Dec/2020 22:12:43] \"POST / HTTP/1.1\" 200 -\n",
      "127.0.0.1 - - [23/Dec/2020 22:13:03] \"POST / HTTP/1.1\" 200 -\n",
      "127.0.0.1 - - [23/Dec/2020 22:13:29] \"POST / HTTP/1.1\" 200 -\n",
      "127.0.0.1 - - [23/Dec/2020 22:14:19] \"POST / HTTP/1.1\" 200 -\n"
     ]
    }
   ],
   "source": [
    "import cgi\n",
    "from http.server import BaseHTTPRequestHandler\n",
    "import io\n",
    "\n",
    "\n",
    "class PostHandler(BaseHTTPRequestHandler):\n",
    "\n",
    "    def do_POST(self):\n",
    "       \n",
    "        form = cgi.FieldStorage(\n",
    "            fp=self.rfile,\n",
    "            headers=self.headers,\n",
    "            environ={\n",
    "                'REQUEST_METHOD': 'POST',\n",
    "                'CONTENT_TYPE': self.headers['Content-Type'],\n",
    "            }\n",
    "        )\n",
    "\n",
    "       \n",
    "        self.send_response(200)\n",
    "        self.send_header('Content-Type',\n",
    "                         'text/plain; charset=utf-8')\n",
    "        self.end_headers()\n",
    "\n",
    "        out = io.TextIOWrapper(\n",
    "            self.wfile,\n",
    "            encoding='utf-8',\n",
    "            line_buffering=False,\n",
    "            write_through=True,\n",
    "        )\n",
    "\n",
    "        out.write('Client: {}\\n'.format(self.client_address))\n",
    "        out.write('User-agent: {}\\n'.format(\n",
    "            self.headers['user-agent']))\n",
    "        out.write('Path: {}\\n'.format(self.path))\n",
    "        out.write('Form data:\\n')\n",
    "\n",
    "        \n",
    "        for field in form.keys():\n",
    "            field_item = form[field]\n",
    "            if field_item.filename:\n",
    "                \n",
    "                file_data = field_item.file.read()\n",
    "                file_len = len(file_data)\n",
    "                del file_data\n",
    "                out.write(\n",
    "                    '\\tUploaded {} as {!r} ({} bytes)\\n'.format(\n",
    "                        field, field_item.filename, file_len)\n",
    "                )\n",
    "            else:\n",
    "                \n",
    "                out.write('\\t{}={}\\n'.format(\n",
    "                    field, form[field].value))\n",
    "\n",
    "       \n",
    "        out.detach()\n",
    "\n",
    "\n",
    "if __name__ == '__main__':\n",
    "    from http.server import HTTPServer\n",
    "    server = HTTPServer(('localhost', 8080), PostHandler)\n",
    "    print('Starting server, use <Ctrl-C> to stop')\n",
    "    server.serve_forever()"
   ]
  },
  {
   "cell_type": "code",
   "execution_count": null,
   "metadata": {},
   "outputs": [],
   "source": []
  }
 ],
 "metadata": {
  "kernelspec": {
   "display_name": "Python 3",
   "language": "python",
   "name": "python3"
  },
  "language_info": {
   "codemirror_mode": {
    "name": "ipython",
    "version": 3
   },
   "file_extension": ".py",
   "mimetype": "text/x-python",
   "name": "python",
   "nbconvert_exporter": "python",
   "pygments_lexer": "ipython3",
   "version": "3.8.5"
  }
 },
 "nbformat": 4,
 "nbformat_minor": 4
}
