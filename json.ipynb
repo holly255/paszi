{
 "cells": [
  {
   "cell_type": "markdown",
   "metadata": {},
   "source": [
    "# Модуль json"
   ]
  },
  {
   "cell_type": "markdown",
   "metadata": {},
   "source": [
    "Официальная документация [здесь](https://docs.python.org/3/library/json.html)"
   ]
  },
  {
   "cell_type": "markdown",
   "metadata": {},
   "source": [
    "JSON (JavaScript Object Notation), указанный в RFC 7159 (который заменяет RFC 4627) и ECMA-404, представляет собой легкий формат обмена данными, основанный на синтаксисе объектного литерала JavaScript (хотя он и не является строгим подмножеством JavaScript).\n",
    "\n",
    "Подробнее о RFC [здесь](https://tools.ietf.org/html/rfc7159.html)\n",
    "\n",
    "Модуль json предоставляет API, аналогичный pickle, для преобразования объектов Python в памяти в сериализованное представление, известное как JavaScript Object Notation (JSON). В отличие от pickle, JSON имеет преимущество в наличии реализаций на многих языках (особенно JavaScript). Он наиболее широко используется для связи между веб-сервером и клиентом в REST API, но также полезен для других потребностей коммуникации между приложениями."
   ]
  },
  {
   "cell_type": "code",
   "execution_count": 1,
   "metadata": {},
   "outputs": [],
   "source": [
    "import json"
   ]
  },
  {
   "cell_type": "markdown",
   "metadata": {},
   "source": [
    "## Кодирование и декодирование простых типов данных"
   ]
  },
  {
   "cell_type": "markdown",
   "metadata": {},
   "source": [
    "Кодировщик по умолчанию понимает собственные типы Python (str, int, float, list, tuple и dict)."
   ]
  },
  {
   "cell_type": "markdown",
   "metadata": {},
   "source": [
    "Класс json.JSONDecoder(object_hook=None, parse_float=None, parse_int=None, parse_constant=None, strict=True, object_pairs_hook=None) - простой декодер JSON.\n",
    "\n",
    "Выполняет следующие преобразования при декодировании:"
   ]
  },
  {
   "cell_type": "markdown",
   "metadata": {},
   "source": [
    "|      JSON     | Python |\n",
    "|:-------------:|:------:|\n",
    "| object        | dict   |\n",
    "| array         | list   |\n",
    "| string        | str    |\n",
    "| number (int)  | int    |\n",
    "| number (real) | float  |\n",
    "| true          | True   |\n",
    "| false         | False  |\n",
    "| null          | None   |"
   ]
  },
  {
   "cell_type": "markdown",
   "metadata": {},
   "source": [
    "Он также понимает NaN, Infinity, и -Infinity как соответствующие значения float, которые находятся за пределами спецификации JSON.\n",
    "\n",
    "Класс json.JSONEncoder(skipkeys=False, ensure_ascii=True, check_circular=True, allow_nan=True, sort_keys=False, indent=None, separators=None, default=None)\n",
    "\n",
    "Расширяемый кодировщик JSON для структур данных Python. Поддерживает следующие объекты и типы данных по умолчанию:"
   ]
  },
  {
   "cell_type": "markdown",
   "metadata": {},
   "source": [
    "|    Python   |  JSON  |\n",
    "|:-----------:|:------:|\n",
    "| dict        | object |\n",
    "| list, tuple | array  |\n",
    "| str         | string |\n",
    "| int, float  | number |\n",
    "| True        | true   |\n",
    "| False       | false  |\n",
    "| None        | null   |"
   ]
  },
  {
   "cell_type": "code",
   "execution_count": 2,
   "metadata": {},
   "outputs": [
    {
     "name": "stdout",
     "output_type": "stream",
     "text": [
      "DATA: [{'a': 'A', 'b': (2, 4), 'c': 3.0}]\n",
      "JSON: [{\"a\": \"A\", \"b\": [2, 4], \"c\": 3.0}]\n"
     ]
    }
   ],
   "source": [
    "import json\n",
    "\n",
    "data = [{'a': 'A', 'b': (2, 4), 'c': 3.0}]\n",
    "print('DATA:', repr(data))\n",
    "\n",
    "data_string = json.dumps(data)\n",
    "print('JSON:', data_string)"
   ]
  },
  {
   "cell_type": "markdown",
   "metadata": {},
   "source": [
    "Значения кодируются способом, внешне похожим на вывод питоновского repr()."
   ]
  },
  {
   "cell_type": "markdown",
   "metadata": {},
   "source": [
    "Кодирование, а затем повторное декодирование может не дать точно такого же типа объекта."
   ]
  },
  {
   "cell_type": "code",
   "execution_count": 3,
   "metadata": {},
   "outputs": [
    {
     "name": "stdout",
     "output_type": "stream",
     "text": [
      "DATA   : [{'a': 'A', 'b': (2, 4), 'c': 3.0}]\n",
      "ENCODED: [{\"a\": \"A\", \"b\": [2, 4], \"c\": 3.0}]\n",
      "DECODED: [{'a': 'A', 'b': [2, 4], 'c': 3.0}]\n",
      "ORIGINAL: <class 'tuple'>\n",
      "DECODED : <class 'list'>\n"
     ]
    }
   ],
   "source": [
    "import json\n",
    "\n",
    "data = [{'a': 'A', 'b': (2, 4), 'c': 3.0}]\n",
    "print('DATA   :', data)\n",
    "\n",
    "data_string = json.dumps(data)\n",
    "print('ENCODED:', data_string)\n",
    "\n",
    "decoded = json.loads(data_string)\n",
    "print('DECODED:', decoded)\n",
    "\n",
    "print('ORIGINAL:', type(data[0]['b']))\n",
    "print('DECODED :', type(decoded[0]['b']))"
   ]
  },
  {
   "cell_type": "markdown",
   "metadata": {},
   "source": [
    "В частности, как мы видим, кортежи становятся списками."
   ]
  },
  {
   "cell_type": "markdown",
   "metadata": {},
   "source": [
    "## Удобочитаемость против компактности"
   ]
  },
  {
   "cell_type": "markdown",
   "metadata": {},
   "source": [
    "Еще одно преимущество JSON перед pickle заключаются в результатах человеческого восприятия. Функция dumps() принимает несколько аргументов, чтобы сделать вывод еще приятнее. Например, флаг sort_keys указывает кодировщику выводить ключи словаря в отсортированном, а не случайном порядке."
   ]
  },
  {
   "cell_type": "code",
   "execution_count": 4,
   "metadata": {},
   "outputs": [
    {
     "name": "stdout",
     "output_type": "stream",
     "text": [
      "DATA: [{'a': 'A', 'b': (2, 4), 'c': 3.0}]\n",
      "JSON: [{\"a\": \"A\", \"b\": [2, 4], \"c\": 3.0}]\n",
      "SORT: [{\"a\": \"A\", \"b\": [2, 4], \"c\": 3.0}]\n",
      "UNSORTED MATCH: True\n",
      "SORTED MATCH  : True\n"
     ]
    }
   ],
   "source": [
    "import json\n",
    "\n",
    "data = [{'a': 'A', 'b': (2, 4), 'c': 3.0}]\n",
    "print('DATA:', repr(data))\n",
    "\n",
    "unsorted = json.dumps(data)\n",
    "print('JSON:', json.dumps(data))\n",
    "print('SORT:', json.dumps(data, sort_keys=True))\n",
    "\n",
    "first = json.dumps(data, sort_keys=True)\n",
    "second = json.dumps(data, sort_keys=True)\n",
    "\n",
    "print('UNSORTED MATCH:', unsorted == first)\n",
    "print('SORTED MATCH  :', first == second)"
   ]
  },
  {
   "cell_type": "markdown",
   "metadata": {},
   "source": [
    "Сортировка облегчает сканирование результатов на глаз, а также позволяет сравнивать вывод JSON в тестах."
   ]
  },
  {
   "cell_type": "markdown",
   "metadata": {},
   "source": [
    "Для сильно вложенных структур данных укажите значение отступа, чтобы выходные данные также были хорошо отформатированы."
   ]
  },
  {
   "cell_type": "code",
   "execution_count": 5,
   "metadata": {},
   "outputs": [
    {
     "name": "stdout",
     "output_type": "stream",
     "text": [
      "DATA: [{'a': 'A', 'b': (2, 4), 'c': 3.0}]\n",
      "NORMAL: [{\"a\": \"A\", \"b\": [2, 4], \"c\": 3.0}]\n",
      "INDENT: [\n",
      "  {\n",
      "    \"a\": \"A\",\n",
      "    \"b\": [\n",
      "      2,\n",
      "      4\n",
      "    ],\n",
      "    \"c\": 3.0\n",
      "  }\n",
      "]\n"
     ]
    }
   ],
   "source": [
    "import json\n",
    "\n",
    "data = [{'a': 'A', 'b': (2, 4), 'c': 3.0}]\n",
    "print('DATA:', repr(data))\n",
    "\n",
    "print('NORMAL:', json.dumps(data, sort_keys=True))\n",
    "print('INDENT:', json.dumps(data, sort_keys=True, indent=2))"
   ]
  },
  {
   "cell_type": "markdown",
   "metadata": {},
   "source": [
    "Когда indent является неотрицательным целым числом, выходные данные больше похожи на pprint, с начальными пробелами для каждого уровня структуры данных, соответствующего уровню отступа."
   ]
  },
  {
   "cell_type": "markdown",
   "metadata": {},
   "source": [
    "Однако такой подробный вывод увеличивает количество байтов, необходимых для передачи того же объема данных, поэтому он не предназначен для использования в производственной среде. На самом деле, можно настроить параметры разделения данных в кодированном выводе, чтобы сделать его еще более компактным, чем по умолчанию."
   ]
  },
  {
   "cell_type": "code",
   "execution_count": 19,
   "metadata": {},
   "outputs": [
    {
     "name": "stdout",
     "output_type": "stream",
     "text": [
      "DATA: [{'a': 'A', 'b': (2, 4), 'c': 3.0}]\n",
      "repr(data)             : 35\n",
      "dumps(data)            : 35\n",
      "dumps(data, indent=2)  : 73\n",
      "dumps(data, separators): 29\n"
     ]
    }
   ],
   "source": [
    "import json\n",
    "\n",
    "data = [{'a': 'A', 'b': (2, 4), 'c': 3.0}]\n",
    "print('DATA:', repr(data))\n",
    "\n",
    "print('repr(data)             :', len(repr(data)))\n",
    "\n",
    "plain_dump = json.dumps(data)\n",
    "print('dumps(data)            :', len(plain_dump))\n",
    "\n",
    "small_indent = json.dumps(data, indent=2)\n",
    "print('dumps(data, indent=2)  :', len(small_indent))\n",
    "\n",
    "with_separators = json.dumps(data, separators=(',', ':'))\n",
    "print('dumps(data, separators):', len(with_separators))"
   ]
  },
  {
   "cell_type": "markdown",
   "metadata": {},
   "source": [
    "Аргумент separators для dumps() должен быть кортежем, содержащим строки для разделения элементов в списке и ключей от значений в словаре. По умолчанию это (', ', ': '). Удаляя пробелы, получается более компактный вывод."
   ]
  },
  {
   "cell_type": "markdown",
   "metadata": {},
   "source": [
    "## Кодирование словарей"
   ]
  },
  {
   "cell_type": "markdown",
   "metadata": {},
   "source": [
    "Формат JSON предполагает, что ключи к словарю будут строками. Попытка кодировать словарь с нестроковыми типами в качестве ключей приводит к ошибке TypeError. Один из способов обойти это ограничение - сказать кодировщику пропустить нестроковые ключи с помощью аргумента skipkeys"
   ]
  },
  {
   "cell_type": "code",
   "execution_count": 7,
   "metadata": {},
   "outputs": [
    {
     "name": "stdout",
     "output_type": "stream",
     "text": [
      "First attempt\n",
      "ERROR: keys must be str, int, float, bool or None, not tuple\n",
      "\n",
      "Second attempt\n",
      "[{\"a\": \"A\", \"b\": [2, 4], \"c\": 3.0}]\n"
     ]
    }
   ],
   "source": [
    "import json\n",
    "\n",
    "data = [{'a': 'A', 'b': (2, 4), 'c': 3.0, ('d',): 'D tuple'}]\n",
    "\n",
    "print('First attempt')\n",
    "try:\n",
    "    print(json.dumps(data))\n",
    "except TypeError as err:\n",
    "    print('ERROR:', err)\n",
    "\n",
    "print()\n",
    "print('Second attempt')\n",
    "print(json.dumps(data, skipkeys=True))"
   ]
  },
  {
   "cell_type": "markdown",
   "metadata": {},
   "source": [
    "Вместо того чтобы вызывать исключение, нестроковый ключ игнорируется."
   ]
  },
  {
   "cell_type": "markdown",
   "metadata": {},
   "source": [
    "[Полезный материал для понимания темы](https://python-scripts.com/json)"
   ]
  },
  {
   "cell_type": "markdown",
   "metadata": {},
   "source": [
    "# Задание"
   ]
  },
  {
   "cell_type": "markdown",
   "metadata": {},
   "source": [
    "Убедитесь, что кодирование и последующее декодирование не дает одного и того же результата."
   ]
  }
 ],
 "metadata": {
  "kernelspec": {
   "display_name": "Python 3",
   "language": "python",
   "name": "python3"
  },
  "language_info": {
   "codemirror_mode": {
    "name": "ipython",
    "version": 3
   },
   "file_extension": ".py",
   "mimetype": "text/x-python",
   "name": "python",
   "nbconvert_exporter": "python",
   "pygments_lexer": "ipython3",
   "version": "3.8.5"
  }
 },
 "nbformat": 4,
 "nbformat_minor": 4
}
