{
 "cells": [
  {
   "cell_type": "markdown",
   "metadata": {},
   "source": [
    "# Модуль uuid"
   ]
  },
  {
   "cell_type": "markdown",
   "metadata": {},
   "source": [
    "Оффициальная документация [здесь](https://docs.python.org/3/library/uuid.html)"
   ]
  },
  {
   "cell_type": "markdown",
   "metadata": {},
   "source": [
    "Этот модуль предоставляет неизменяемые объекты UUID (класс UUID) и функции uuid1(), uuid3(), uuid4(), uuid5() для генерации UUID версий 1, 3, 4 и 5, как указано в спецификации RFC 4122.\n",
    "\n",
    "О RFC подробнее [здесь](https://tools.ietf.org/html/rfc4122.html)\n",
    "\n",
    "RFC специально ориентирован на создание единого пространства имен ресурсов и охватывает три основных алгоритма:\n",
    "\n",
    "- Использование MAC-адресов IEEE 802 в качестве источника уникальности\n",
    "- Использование псевдослучайных чисел\n",
    "- Использование хорошо известных строк в сочетании с криптографическим хешированием\n",
    "\n",
    "Во всех случаях начальное значение объединяется с системными часами и значением тактовой последовательности, используемой для поддержания уникальности в случае, если часы установлены назад."
   ]
  },
  {
   "cell_type": "code",
   "execution_count": null,
   "metadata": {},
   "outputs": [],
   "source": [
    "import uuid"
   ]
  },
  {
   "cell_type": "markdown",
   "metadata": {},
   "source": [
    "Если все, что вам нужно - это уникальный идентификатор, вам, вероятно, следует вызвать uuid1() или uuid4(). Обратите внимание, что uuid1() может поставить под угрозу конфиденциальность, поскольку он создает уникальный идентификатор, содержащий сетевой адрес компьютера. uuid4() создает случайный UUID."
   ]
  },
  {
   "cell_type": "markdown",
   "metadata": {},
   "source": [
    "## UUID 1 - IEEE 802 MAC Address"
   ]
  },
  {
   "cell_type": "markdown",
   "metadata": {},
   "source": [
    "Значения UUID версии 1 вычисляются с использованием MAC-адреса хоста. Модуль uuid использует getnode() для получения MAC-значения текущей системы."
   ]
  },
  {
   "cell_type": "code",
   "execution_count": 1,
   "metadata": {},
   "outputs": [
    {
     "name": "stdout",
     "output_type": "stream",
     "text": [
      "0xd861178f84\n"
     ]
    }
   ],
   "source": [
    "import uuid\n",
    "\n",
    "print(hex(uuid.getnode()))"
   ]
  },
  {
   "cell_type": "markdown",
   "metadata": {},
   "source": [
    "Если в системе имеется более одной сетевой карты и, следовательно, более одного компьютера MAC, может быть возвращено любое из значений."
   ]
  },
  {
   "cell_type": "markdown",
   "metadata": {},
   "source": [
    "Чтобы сгенерировать UUID для хоста, идентифицируемого по его MAC-адресу, используйте функцию uuid1(). Аргумент идентификатора узла необязателен; оставьте поле пустым, чтобы использовать значение, возвращаемое getnode()."
   ]
  },
  {
   "cell_type": "code",
   "execution_count": 2,
   "metadata": {},
   "outputs": [
    {
     "name": "stdout",
     "output_type": "stream",
     "text": [
      "ef30bd4a-4536-11eb-bd94-00d861178f84\n",
      "<class 'uuid.UUID'>\n",
      "bytes   : b'\\xef0\\xbdJE6\\x11\\xeb\\xbd\\x94\\x00\\xd8a\\x17\\x8f\\x84'\n",
      "hex     : ef30bd4a453611ebbd9400d861178f84\n",
      "int     : 317938560501523513872258069505771016068\n",
      "urn     : urn:uuid:ef30bd4a-4536-11eb-bd94-00d861178f84\n",
      "variant : specified in RFC 4122\n",
      "version : 1\n",
      "fields  : (4012948810, 17718, 4587, 189, 148, 929341869956)\n",
      "  time_low            :  4012948810\n",
      "  time_mid            :  17718\n",
      "  time_hi_version     :  4587\n",
      "  clock_seq_hi_variant:  189\n",
      "  clock_seq_low       :  148\n",
      "  node                :  929341869956\n",
      "  time                :  138280315808431434\n",
      "  clock_seq           :  15764\n"
     ]
    }
   ],
   "source": [
    "import uuid\n",
    "\n",
    "u = uuid.uuid1()\n",
    "\n",
    "print(u)\n",
    "print(type(u))\n",
    "print('bytes   :', repr(u.bytes))\n",
    "print('hex     :', u.hex)\n",
    "print('int     :', u.int)\n",
    "print('urn     :', u.urn)\n",
    "print('variant :', u.variant)\n",
    "print('version :', u.version)\n",
    "print('fields  :', u.fields)\n",
    "print('  time_low            : ', u.time_low)\n",
    "print('  time_mid            : ', u.time_mid)\n",
    "print('  time_hi_version     : ', u.time_hi_version)\n",
    "print('  clock_seq_hi_variant: ', u.clock_seq_hi_variant)\n",
    "print('  clock_seq_low       : ', u.clock_seq_low)\n",
    "print('  node                : ', u.node)\n",
    "print('  time                : ', u.time)\n",
    "print('  clock_seq           : ', u.clock_seq)"
   ]
  },
  {
   "cell_type": "markdown",
   "metadata": {},
   "source": [
    "К компонентам возвращаемого объекта UUID можно получить доступ через атрибуты экземпляра, доступные только для чтения. Некоторые атрибуты, такие как hex, int и urn, являются различными представлениями значения UUID. Из-за компонента времени каждый вызов uuid1() возвращает новое значение."
   ]
  },
  {
   "cell_type": "code",
   "execution_count": 3,
   "metadata": {},
   "outputs": [
    {
     "name": "stdout",
     "output_type": "stream",
     "text": [
      "1c68e0a0-4537-11eb-9e8f-00d861178f84\n",
      "1c68e0a1-4537-11eb-b727-00d861178f84\n",
      "1c68e0a2-4537-11eb-a7e7-00d861178f84\n"
     ]
    }
   ],
   "source": [
    "import uuid\n",
    "\n",
    "for i in range(3):\n",
    "    print(uuid.uuid1())"
   ]
  },
  {
   "cell_type": "markdown",
   "metadata": {},
   "source": [
    "Поскольку каждый компьютер имеет свой MAC-адрес, запуск программы-образца в разных системах приведет к совершенно разным значениям. В этом примере передаются явные идентификаторы узлов для имитации работы на разных хостах."
   ]
  },
  {
   "cell_type": "code",
   "execution_count": 4,
   "metadata": {},
   "outputs": [
    {
     "name": "stdout",
     "output_type": "stream",
     "text": [
      "345bec79-4537-11eb-8e6f-001ec200d9e0 0x1ec200d9e0\n",
      "345bec7a-4537-11eb-b4f6-001e5274040e 0x1e5274040e\n"
     ]
    }
   ],
   "source": [
    "import uuid\n",
    "\n",
    "for node in [0x1ec200d9e0, 0x1e5274040e]:\n",
    "    print(uuid.uuid1(node), hex(node))"
   ]
  },
  {
   "cell_type": "markdown",
   "metadata": {},
   "source": [
    "В дополнение к другому значению времени также изменяется идентификатор узла в конце UUID."
   ]
  },
  {
   "cell_type": "markdown",
   "metadata": {},
   "source": [
    "## UUID 3 and 5 - Name-Based Values"
   ]
  },
  {
   "cell_type": "markdown",
   "metadata": {},
   "source": [
    "Это также полезный способ (в некоторых случаях) для создания значений UUID из названия, а не с помощью случайности или значений, основанных на времени. Версии 3 и 5 UUID используют криптографические хэш-значения (MD5 или SHA-1 соответственно) для объединения специфичных для пространства имен-значений с именами."
   ]
  },
  {
   "cell_type": "code",
   "execution_count": 6,
   "metadata": {},
   "outputs": [
    {
     "name": "stdout",
     "output_type": "stream",
     "text": [
      "https://vk.com/serikov.timofei\n",
      "  MD5   : c32aad05-ea36-35c7-ab85-5eaa63aa318d\n",
      "  SHA-1 : dd86861d-dc07-54b1-8762-84b4148dde4c\n",
      "\n",
      "https://github.com/holly255\n",
      "  MD5   : 67259688-22f2-3595-909a-5b786a3cb8dc\n",
      "  SHA-1 : fa4aa5a9-4562-50de-a23f-c7d3b940ae3e\n",
      "\n"
     ]
    }
   ],
   "source": [
    "import uuid\n",
    "\n",
    "hostnames = ['https://vk.com/serikov.timofei', 'https://github.com/holly255']\n",
    "\n",
    "for name in hostnames:\n",
    "    print(name)\n",
    "    print('  MD5   :', uuid.uuid3(uuid.NAMESPACE_DNS, name))\n",
    "    print('  SHA-1 :', uuid.uuid5(uuid.NAMESPACE_DNS, name))\n",
    "    print()"
   ]
  },
  {
   "cell_type": "markdown",
   "metadata": {},
   "source": [
    "Значение UUID для данного имени в пространстве имен всегда одно и то же, независимо от того, когда и где оно вычисляется."
   ]
  },
  {
   "cell_type": "code",
   "execution_count": 7,
   "metadata": {},
   "outputs": [
    {
     "name": "stdout",
     "output_type": "stream",
     "text": [
      "NAMESPACE_DNS\n",
      "  c32aad05-ea36-35c7-ab85-5eaa63aa318d\n",
      "  c32aad05-ea36-35c7-ab85-5eaa63aa318d\n",
      "\n",
      "NAMESPACE_OID\n",
      "  8321b7de-7552-35c7-990a-9e99b02085d8\n",
      "  8321b7de-7552-35c7-990a-9e99b02085d8\n",
      "\n",
      "NAMESPACE_URL\n",
      "  e89fb5ee-f8cd-3711-9d9b-5b20a022339a\n",
      "  e89fb5ee-f8cd-3711-9d9b-5b20a022339a\n",
      "\n",
      "NAMESPACE_X500\n",
      "  64fc7351-744f-35b1-8bcf-876b1a4d9072\n",
      "  64fc7351-744f-35b1-8bcf-876b1a4d9072\n",
      "\n"
     ]
    }
   ],
   "source": [
    "import uuid\n",
    "\n",
    "namespace_types = sorted(\n",
    "    n\n",
    "    for n in dir(uuid)\n",
    "    if n.startswith('NAMESPACE_')\n",
    ")\n",
    "name = 'https://vk.com/serikov.timofei'\n",
    "\n",
    "for namespace_type in namespace_types:\n",
    "    print(namespace_type)\n",
    "    namespace_uuid = getattr(uuid, namespace_type)\n",
    "    print(' ', uuid.uuid3(namespace_uuid, name))\n",
    "    print(' ', uuid.uuid3(namespace_uuid, name))\n",
    "    print()"
   ]
  },
  {
   "cell_type": "markdown",
   "metadata": {},
   "source": [
    "## UUID 4 - Random Values"
   ]
  },
  {
   "cell_type": "markdown",
   "metadata": {},
   "source": [
    "Иногда значения UUID на основе хоста и пространства имен недостаточно “различаются\". Например, в тех случаях, когда UUID предназначен для использования в качестве хэш-ключа, желательно использовать более случайную последовательность значений с большей дифференциацией, чтобы избежать коллизий в хэш-таблице. Наличие значений с меньшим количеством общих цифр также облегчает их поиск в файлах журналов. Чтобы добавить большую дифференциацию в UUID, используйте uuid4() для их генерации с использованием случайных входных значений."
   ]
  },
  {
   "cell_type": "markdown",
   "metadata": {},
   "source": [
    "import uuid\n",
    "\n",
    "for i in range(3):\n",
    "    print(uuid.uuid4())"
   ]
  },
  {
   "cell_type": "markdown",
   "metadata": {},
   "source": [
    "Источник случайности зависит от того, какие библиотеки на С доступны при импорте uuid. Если libuuid (или uuid.dll) может быть загружен и содержит функцию генерации случайных значений, она используется. В противном случае используется os.urandom() или случайный модуль."
   ]
  },
  {
   "cell_type": "markdown",
   "metadata": {},
   "source": [
    "## Working with UUID Objects"
   ]
  },
  {
   "cell_type": "markdown",
   "metadata": {},
   "source": [
    "Помимо генерации новых значений UUID, можно анализировать строки в стандартных форматах для создания объектов UUID, что упрощает обработку операций сравнения и сортировки."
   ]
  },
  {
   "cell_type": "code",
   "execution_count": 9,
   "metadata": {},
   "outputs": [
    {
     "name": "stdout",
     "output_type": "stream",
     "text": [
      "input_values\n",
      "  urn:uuid:f2f84497-b3bf-493a-bba9-7c68e6def80b\n",
      "  {417a5ebb-01f7-4ed5-aeac-3d56cd5037b0}\n",
      "  2115773a-5bf1-11dd-ab48-001ec200d9e0\n",
      "\n",
      "converted to uuids\n",
      "  f2f84497-b3bf-493a-bba9-7c68e6def80b\n",
      "  417a5ebb-01f7-4ed5-aeac-3d56cd5037b0\n",
      "  2115773a-5bf1-11dd-ab48-001ec200d9e0\n",
      "\n",
      "sorted\n",
      "  2115773a-5bf1-11dd-ab48-001ec200d9e0\n",
      "  417a5ebb-01f7-4ed5-aeac-3d56cd5037b0\n",
      "  f2f84497-b3bf-493a-bba9-7c68e6def80b\n",
      "\n"
     ]
    }
   ],
   "source": [
    "import uuid\n",
    "\n",
    "\n",
    "def show(msg, l):\n",
    "    print(msg)\n",
    "    for v in l:\n",
    "        print(' ', v)\n",
    "    print()\n",
    "\n",
    "\n",
    "input_values = [\n",
    "    'urn:uuid:f2f84497-b3bf-493a-bba9-7c68e6def80b',\n",
    "    '{417a5ebb-01f7-4ed5-aeac-3d56cd5037b0}',\n",
    "    '2115773a-5bf1-11dd-ab48-001ec200d9e0',\n",
    "]\n",
    "\n",
    "show('input_values', input_values)\n",
    "\n",
    "uuids = [uuid.UUID(s) for s in input_values]\n",
    "show('converted to uuids', uuids)\n",
    "\n",
    "uuids.sort()\n",
    "show('sorted', uuids)"
   ]
  },
  {
   "cell_type": "markdown",
   "metadata": {},
   "source": [
    "Окружающие фигурные скобки удаляются из входных данных, как и тире ( -). Если строка имеет префикс, содержащий urn: и/или uuid:, она также удаляется. Оставшийся текст должен быть строкой из 16 шестнадцатеричных цифр, которые затем интерпретируются как значение UUID."
   ]
  },
  {
   "cell_type": "markdown",
   "metadata": {},
   "source": [
    "# Задание"
   ]
  },
  {
   "cell_type": "markdown",
   "metadata": {},
   "source": [
    "Создайте UUID каждого типа, и используйте в простейшей функции данное значение."
   ]
  }
 ],
 "metadata": {
  "kernelspec": {
   "display_name": "Python 3",
   "language": "python",
   "name": "python3"
  },
  "language_info": {
   "codemirror_mode": {
    "name": "ipython",
    "version": 3
   },
   "file_extension": ".py",
   "mimetype": "text/x-python",
   "name": "python",
   "nbconvert_exporter": "python",
   "pygments_lexer": "ipython3",
   "version": "3.8.5"
  }
 },
 "nbformat": 4,
 "nbformat_minor": 4
}
