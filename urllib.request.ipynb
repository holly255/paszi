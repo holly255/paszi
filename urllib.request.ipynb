{
 "cells": [
  {
   "cell_type": "markdown",
   "metadata": {},
   "source": [
    "# Модуль urllib.request"
   ]
  },
  {
   "cell_type": "markdown",
   "metadata": {},
   "source": [
    "Официальная документация: [здесь](https://docs.python.org/3/library/urllib.request.html)"
   ]
  },
  {
   "cell_type": "markdown",
   "metadata": {},
   "source": [
    "Модуль urllib.request определяет функции и классы, которые помогают открывать URL — адреса (в основном HTTP), перенаправлять файлы cookie и многое другое."
   ]
  },
  {
   "cell_type": "code",
   "execution_count": null,
   "metadata": {},
   "outputs": [],
   "source": [
    "import urllib.request"
   ]
  },
  {
   "cell_type": "markdown",
   "metadata": {},
   "source": [
    "## HTTP GET"
   ]
  },
  {
   "cell_type": "markdown",
   "metadata": {},
   "source": [
    "Запустим свой http-сервер для выполнения демонстрационных запросов по [ссылке](http://localhost:8889/notebooks/http.server%20get%26post.ipynb)"
   ]
  },
  {
   "cell_type": "markdown",
   "metadata": {},
   "source": [
    "### Метод urllib.request.urlopen"
   ]
  },
  {
   "cell_type": "markdown",
   "metadata": {},
   "source": [
    "HTTPGET-операция является самым простым использованием данного модуля. Передайте URL-адрес в urlopen(), чтобы получить \"файлоподобный\" дескриптор удаленных данных.\n",
    "\n",
    "Что такое дескриптор смотреть [здесь](https://ru.wikipedia.org/wiki/Файловый_дескриптор)"
   ]
  },
  {
   "cell_type": "markdown",
   "metadata": {},
   "source": [
    "urllib.request.urlopen(url, data=None, [timeout, ]*, cafile=None, capath=None, cadefault=False, context=None)"
   ]
  },
  {
   "cell_type": "code",
   "execution_count": 9,
   "metadata": {},
   "outputs": [
    {
     "name": "stdout",
     "output_type": "stream",
     "text": [
      "RESPONSE: <http.client.HTTPResponse object at 0x00000229779335B0>\n",
      "URL     : http://localhost:8080/\n",
      "DATE    : Wed, 23 Dec 2020 14:47:21 GMT\n",
      "HEADERS :\n",
      "---------\n",
      "Server: BaseHTTP/0.6 Python/3.8.5\n",
      "Date: Wed, 23 Dec 2020 14:47:21 GMT\n",
      "Content-Type: text/plain; charset=utf-8\n",
      "\n",
      "\n",
      "LENGTH  : 349\n",
      "DATA    :\n",
      "---------\n",
      "CLIENT VALUES:\r\n",
      "client_address=('127.0.0.1', 55118) (127.0.0.1)\r\n",
      "command=GET\r\n",
      "path=/\r\n",
      "real path=/\r\n",
      "query=\r\n",
      "request_version=HTTP/1.1\r\n",
      "\r\n",
      "SERVER VALUES:\r\n",
      "server_version=BaseHTTP/0.6\r\n",
      "sys_version=Python/3.8.5\r\n",
      "protocol_version=HTTP/1.0\r\n",
      "\r\n",
      "HEADERS RECEIVED:\r\n",
      "Accept-Encoding=identity\r\n",
      "Connection=close\r\n",
      "Host=localhost:8080\r\n",
      "User-Agent=Python-urllib/3.8\r\n",
      "\n"
     ]
    }
   ],
   "source": [
    "from urllib import request\n",
    "\n",
    "response = request.urlopen('http://localhost:8080/')\n",
    "print('RESPONSE:', response)\n",
    "print('URL     :', response.geturl())\n",
    "\n",
    "headers = response.info()\n",
    "print('DATE    :', headers['date'])\n",
    "print('HEADERS :')\n",
    "print('---------')\n",
    "print(headers)\n",
    "\n",
    "data = response.read().decode('utf-8')\n",
    "print('LENGTH  :', len(data))\n",
    "print('DATA    :')\n",
    "print('---------')\n",
    "print(data)"
   ]
  },
  {
   "cell_type": "markdown",
   "metadata": {},
   "source": [
    "Cервер принимает входящие значения и форматирует обычный текстовый ответ для отправки обратно. Возвращаемое значение из urlopen() дает доступ к заголовкам с HTTP-сервера через метод info(), и данные для удаленного ресурса через такие методы, как read() и readlines()."
   ]
  },
  {
   "cell_type": "markdown",
   "metadata": {},
   "source": [
    "Файлоподобный объект, возвращаемый функцией urlopen(), является итеративным"
   ]
  },
  {
   "cell_type": "code",
   "execution_count": 10,
   "metadata": {},
   "outputs": [
    {
     "name": "stdout",
     "output_type": "stream",
     "text": [
      "CLIENT VALUES:\n",
      "client_address=('127.0.0.1', 55121) (127.0.0.1)\n",
      "command=GET\n",
      "path=/\n",
      "real path=/\n",
      "query=\n",
      "request_version=HTTP/1.1\n",
      "\n",
      "SERVER VALUES:\n",
      "server_version=BaseHTTP/0.6\n",
      "sys_version=Python/3.8.5\n",
      "protocol_version=HTTP/1.0\n",
      "\n",
      "HEADERS RECEIVED:\n",
      "Accept-Encoding=identity\n",
      "Connection=close\n",
      "Host=localhost:8080\n",
      "User-Agent=Python-urllib/3.8\n"
     ]
    }
   ],
   "source": [
    "from urllib import request\n",
    "\n",
    "response = request.urlopen('http://localhost:8080/')\n",
    "for line in response:\n",
    "    print(line.decode('utf-8').rstrip())"
   ]
  },
  {
   "cell_type": "markdown",
   "metadata": {},
   "source": [
    "## Кодирование аргументов"
   ]
  },
  {
   "cell_type": "markdown",
   "metadata": {},
   "source": [
    "Аргументы могут быть переданы серверу путем кодирования их с помощью функции urllib.parse.urlencode(), которую мы рассматривали, изучая модуль urllib.parse, и добавлены к URL-адресу"
   ]
  },
  {
   "cell_type": "code",
   "execution_count": 11,
   "metadata": {},
   "outputs": [
    {
     "name": "stdout",
     "output_type": "stream",
     "text": [
      "Encoded: q=query+string&foo=bar2000\n",
      "CLIENT VALUES:\n",
      "client_address=('127.0.0.1', 55124) (127.0.0.1)\n",
      "command=GET\n",
      "path=/?q=query+string&foo=bar2000\n",
      "real path=/\n",
      "query=q=query+string&foo=bar2000\n",
      "request_version=HTTP/1.1\n",
      "\n",
      "SERVER VALUES:\n",
      "server_version=BaseHTTP/0.6\n",
      "sys_version=Python/3.8.5\n",
      "protocol_version=HTTP/1.0\n",
      "\n",
      "HEADERS RECEIVED:\n",
      "Accept-Encoding=identity\n",
      "Connection=close\n",
      "Host=localhost:8080\n",
      "User-Agent=Python-urllib/3.8\n",
      "\n"
     ]
    }
   ],
   "source": [
    "from urllib import parse\n",
    "from urllib import request\n",
    "\n",
    "query_args = {'q': 'query string', 'foo': 'bar2000'}\n",
    "encoded_args = parse.urlencode(query_args)\n",
    "print('Encoded:', encoded_args)\n",
    "\n",
    "url = 'http://localhost:8080/?' + encoded_args\n",
    "print(request.urlopen(url).read().decode('utf-8'))"
   ]
  },
  {
   "cell_type": "markdown",
   "metadata": {},
   "source": [
    "Список значений клиента, возвращаемых в выходных данных примера выше, содержит закодированные аргументы запроса."
   ]
  },
  {
   "cell_type": "markdown",
   "metadata": {},
   "source": [
    "## HTTP POST"
   ]
  },
  {
   "cell_type": "markdown",
   "metadata": {},
   "source": [
    "Запустим свой http-сервер для выполнения демонстрационных запросов по [ссылке](http://localhost:8889/notebooks/http.server%20get%26post.ipynb)"
   ]
  },
  {
   "cell_type": "markdown",
   "metadata": {},
   "source": [
    "Чтобы отправить данные в закодированной форме на удаленный сервер используйте POST вместо GET, передайте закодированные аргументы запроса в качестве данных в urlopen()."
   ]
  },
  {
   "cell_type": "code",
   "execution_count": 15,
   "metadata": {},
   "outputs": [
    {
     "name": "stdout",
     "output_type": "stream",
     "text": [
      "Client: ('127.0.0.1', 55233)\r\n",
      "User-agent: Python-urllib/3.8\r\n",
      "Path: /\r\n",
      "Form data:\r\n",
      "\tq=query string\r\n",
      "\tfoo=bar2000\r\n",
      "\n"
     ]
    }
   ],
   "source": [
    "from urllib import parse\n",
    "from urllib import request\n",
    "\n",
    "query_args = {'q': 'query string', 'foo': 'bar2000'}\n",
    "encoded_args = parse.urlencode(query_args).encode('utf-8')\n",
    "url = 'http://localhost:8080/'\n",
    "print(request.urlopen(url, encoded_args).read().decode('utf-8'))"
   ]
  },
  {
   "cell_type": "markdown",
   "metadata": {},
   "source": [
    "Как мы видим, сервер может декодировать данные формы и получать доступ к отдельным значениям по имени."
   ]
  },
  {
   "cell_type": "markdown",
   "metadata": {},
   "source": [
    "## Добавляем заголовки к исходящему запросу"
   ]
  },
  {
   "cell_type": "markdown",
   "metadata": {},
   "source": [
    "urlopen() - удобная функция, которая скрывает некоторые детали того, как делается и обрабатывается запрос. Более точное управление возможно при непосредственном использовании экземпляра запроса. Например, пользовательские заголовки могут быть добавлены к исходящему запросу, чтобы управлять форматом возвращаемых данных, указать версию документа, кэшированного локально, и сообщить удаленному серверу имя программного клиента, взаимодействующего с ним."
   ]
  },
  {
   "cell_type": "code",
   "execution_count": 17,
   "metadata": {},
   "outputs": [
    {
     "name": "stdout",
     "output_type": "stream",
     "text": [
      "CLIENT VALUES:\r\n",
      "client_address=('127.0.0.1', 55644) (127.0.0.1)\r\n",
      "command=GET\r\n",
      "path=/\r\n",
      "real path=/\r\n",
      "query=\r\n",
      "request_version=HTTP/1.1\r\n",
      "\r\n",
      "SERVER VALUES:\r\n",
      "server_version=BaseHTTP/0.6\r\n",
      "sys_version=Python/3.8.5\r\n",
      "protocol_version=HTTP/1.0\r\n",
      "\r\n",
      "HEADERS RECEIVED:\r\n",
      "Accept-Encoding=identity\r\n",
      "Connection=close\r\n",
      "Host=localhost:8080\r\n",
      "Timofei-Dvoechnik=VK (https://vk.com/serikov.timofei)\r\n",
      "User-Agent=Python-urllib/3.8\r\n",
      "\n"
     ]
    }
   ],
   "source": [
    "from urllib import request\n",
    "\n",
    "r = request.Request('http://localhost:8080/')\n",
    "r.add_header(\n",
    "    'Timofei-dvoechnik',\n",
    "    'VK (https://vk.com/serikov.timofei)',\n",
    ")\n",
    "\n",
    "response = request.urlopen(r)\n",
    "data = response.read().decode('utf-8')\n",
    "print(data)"
   ]
  },
  {
   "cell_type": "markdown",
   "metadata": {},
   "source": [
    "После создания объекта запроса используйте add_header(), чтобы установить значение агента пользователя перед открытием запроса. В предпоследней строке вывода отображается пользовательское значение."
   ]
  },
  {
   "cell_type": "markdown",
   "metadata": {},
   "source": [
    "## Публикация данных формы из запроса"
   ]
  },
  {
   "cell_type": "markdown",
   "metadata": {},
   "source": [
    "Исходящие данные можно указать при построении запроса перед отправкой на сервер."
   ]
  },
  {
   "cell_type": "code",
   "execution_count": 22,
   "metadata": {},
   "outputs": [
    {
     "name": "stdout",
     "output_type": "stream",
     "text": [
      "Request method : POST\n",
      "\n",
      "OUTGOING DATA:\n",
      "b'q=query+string&foo=bar2000'\n",
      "\n",
      "SERVER RESPONSE:\n",
      "Client: ('127.0.0.1', 56062)\n",
      "User-agent: Python-urllib/3.8\n",
      "Path: /\n",
      "Form data:\n",
      "\tfoo=bar2000\n",
      "\tq=query string\n",
      "\n"
     ]
    }
   ],
   "source": [
    "from urllib import parse\n",
    "from urllib import request\n",
    "\n",
    "query_args = {'q': 'query string', 'foo': 'bar2000'}\n",
    "\n",
    "r = request.Request(\n",
    "    url='http://localhost:8080/',\n",
    "    data=parse.urlencode(query_args).encode('utf-8'),\n",
    ")\n",
    "print('Request method :', r.get_method())\n",
    "r.add_header(\n",
    "    'Timofei-dvoechnik',\n",
    "    'VK (https://vk.com/serikov.timofei)',\n",
    ")\n",
    "\n",
    "print()\n",
    "print('OUTGOING DATA:')\n",
    "print(r.data)\n",
    "\n",
    "print()\n",
    "print('SERVER RESPONSE:')\n",
    "print(request.urlopen(r).read().decode('utf-8'))"
   ]
  },
  {
   "cell_type": "markdown",
   "metadata": {},
   "source": [
    "Метод HTTP, используемый запросом, автоматически изменяется с GET на POST после добавления данных."
   ]
  },
  {
   "cell_type": "markdown",
   "metadata": {},
   "source": [
    "## Загружаем файл"
   ]
  },
  {
   "cell_type": "markdown",
   "metadata": {},
   "source": [
    "Кодирование файлов для загрузки требует немного больше работы, чем простые формы. Полное MIME-сообщение должно быть построено в теле запроса, чтобы сервер мог отличать входящие поля формы от загруженных файлов.\n",
    "\n",
    "Подробнее о MIME [здесь](https://ru.wikipedia.org/wiki/MIME)"
   ]
  },
  {
   "cell_type": "code",
   "execution_count": 28,
   "metadata": {},
   "outputs": [
    {
     "name": "stdout",
     "output_type": "stream",
     "text": [
      "\n",
      "OUTGOING DATA:\n",
      "Timofei-dvoechnik: VK (https://vk.com/serikov.timofei)\n",
      "Content-type: multipart/form-data; boundary=68d511da7a904916b844b2bcf40d7563\n",
      "Content-length: 369\n",
      "\n",
      "--68d511da7a904916b844b2bcf40d7563\n",
      "Content-Disposition: form-data; name=\"firstname\"\n",
      "\n",
      "TIMOFEI\n",
      "--68d511da7a904916b844b2bcf40d7563\n",
      "Content-Disposition: form-data; name=\"lastname\"\n",
      "\n",
      "SERIKOV\n",
      "--68d511da7a904916b844b2bcf40d7563\n",
      "Content-Disposition: file; name=\"course\"; filename=\"course.txt\"\n",
      "Content-Type: text/plain\n",
      "\n",
      "Student\n",
      "--68d511da7a904916b844b2bcf40d7563--\n",
      "\n",
      "\n",
      "SERVER RESPONSE:\n",
      "Client: ('127.0.0.1', 56116)\n",
      "User-agent: Python-urllib/3.8\n",
      "Path: /\n",
      "Form data:\n",
      "\tUploaded course as 'course.txt' (7 bytes)\n",
      "\tlastname=SERIKOV\n",
      "\tfirstname=TIMOFEI\n",
      "\n"
     ]
    }
   ],
   "source": [
    "import io\n",
    "import mimetypes\n",
    "from urllib import request\n",
    "import uuid\n",
    "\n",
    "\n",
    "class MultiPartForm:\n",
    "    \"\"\"Accumulate the data to be used when posting a form.\"\"\"\n",
    "\n",
    "    def __init__(self):\n",
    "        self.form_fields = []\n",
    "        self.files = []\n",
    "        self.boundary = uuid.uuid4().hex.encode('utf-8')\n",
    "        return\n",
    "\n",
    "    def get_content_type(self):\n",
    "        return 'multipart/form-data; boundary={}'.format(\n",
    "            self.boundary.decode('utf-8'))\n",
    "\n",
    "    def add_field(self, name, value):\n",
    "        \"\"\"Add a simple field to the form data.\"\"\"\n",
    "        self.form_fields.append((name, value))\n",
    "\n",
    "    def add_file(self, fieldname, filename, fileHandle,\n",
    "                 mimetype=None):\n",
    "        \"\"\"Add a file to be uploaded.\"\"\"\n",
    "        body = fileHandle.read()\n",
    "        if mimetype is None:\n",
    "            mimetype = (\n",
    "                mimetypes.guess_type(filename)[0] or\n",
    "                'application/octet-stream'\n",
    "            )\n",
    "        self.files.append((fieldname, filename, mimetype, body))\n",
    "        return\n",
    "\n",
    "    @staticmethod\n",
    "    def _form_data(name):\n",
    "        return ('Content-Disposition: form-data; '\n",
    "                'name=\"{}\"\\r\\n').format(name).encode('utf-8')\n",
    "\n",
    "    @staticmethod\n",
    "    def _attached_file(name, filename):\n",
    "        return ('Content-Disposition: file; '\n",
    "                'name=\"{}\"; filename=\"{}\"\\r\\n').format(\n",
    "                    name, filename).encode('utf-8')\n",
    "\n",
    "    @staticmethod\n",
    "    def _content_type(ct):\n",
    "        return 'Content-Type: {}\\r\\n'.format(ct).encode('utf-8')\n",
    "\n",
    "    def __bytes__(self):\n",
    "        \"\"\"Return a byte-string representing the form data,\n",
    "        including attached files.\n",
    "        \"\"\"\n",
    "        buffer = io.BytesIO()\n",
    "        boundary = b'--' + self.boundary + b'\\r\\n'\n",
    "\n",
    "        \n",
    "        for name, value in self.form_fields:\n",
    "            buffer.write(boundary)\n",
    "            buffer.write(self._form_data(name))\n",
    "            buffer.write(b'\\r\\n')\n",
    "            buffer.write(value.encode('utf-8'))\n",
    "            buffer.write(b'\\r\\n')\n",
    "\n",
    "        \n",
    "        for f_name, filename, f_content_type, body in self.files:\n",
    "            buffer.write(boundary)\n",
    "            buffer.write(self._attached_file(f_name, filename))\n",
    "            buffer.write(self._content_type(f_content_type))\n",
    "            buffer.write(b'\\r\\n')\n",
    "            buffer.write(body)\n",
    "            buffer.write(b'\\r\\n')\n",
    "\n",
    "        buffer.write(b'--' + self.boundary + b'--\\r\\n')\n",
    "        return buffer.getvalue()\n",
    "\n",
    "\n",
    "if __name__ == '__main__':\n",
    "    \n",
    "    form = MultiPartForm()\n",
    "    form.add_field('firstname', 'TIMOFEI')\n",
    "    form.add_field('lastname', 'SERIKOV')\n",
    "\n",
    "    \n",
    "    form.add_file(\n",
    "        'course', 'course.txt',\n",
    "        fileHandle=io.BytesIO(b'Student'))\n",
    "\n",
    "    data = bytes(form)\n",
    "    r = request.Request('http://localhost:8080/', data=data)\n",
    "    r.add_header(\n",
    "        'Timofei-dvoechnik',\n",
    "        'VK (https://vk.com/serikov.timofei)',\n",
    "    )\n",
    "    r.add_header('Content-type', form.get_content_type())\n",
    "    r.add_header('Content-length', len(data))\n",
    "\n",
    "    print()\n",
    "    print('OUTGOING DATA:')\n",
    "    for name, value in r.header_items():\n",
    "        print('{}: {}'.format(name, value))\n",
    "    print()\n",
    "    print(r.data.decode('utf-8'))\n",
    "\n",
    "    print()\n",
    "    print('SERVER RESPONSE:')\n",
    "    print(request.urlopen(r).read().decode('utf-8'))"
   ]
  },
  {
   "cell_type": "markdown",
   "metadata": {},
   "source": [
    "# Задание"
   ]
  },
  {
   "cell_type": "markdown",
   "metadata": {},
   "source": [
    "Создайте свой сервер(включающий методы get и post). Получите данные с сервера и загрузите на сервер файл."
   ]
  }
 ],
 "metadata": {
  "kernelspec": {
   "display_name": "Python 3",
   "language": "python",
   "name": "python3"
  },
  "language_info": {
   "codemirror_mode": {
    "name": "ipython",
    "version": 3
   },
   "file_extension": ".py",
   "mimetype": "text/x-python",
   "name": "python",
   "nbconvert_exporter": "python",
   "pygments_lexer": "ipython3",
   "version": "3.8.5"
  }
 },
 "nbformat": 4,
 "nbformat_minor": 4
}
